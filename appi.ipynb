{
 "cells": [
  {
   "cell_type": "code",
   "execution_count": 1,
   "id": "1c5f91d5-9f5a-4d8e-9a7d-72ffd993fec7",
   "metadata": {},
   "outputs": [],
   "source": [
    "from pathlib import Path\n",
    "import pandas as pd"
   ]
  },
  {
   "cell_type": "code",
   "execution_count": 2,
   "id": "d44ec137-deaf-4f7c-9e92-d6ed05880f1e",
   "metadata": {},
   "outputs": [],
   "source": [
    "import os\n",
    "from dotenv import load_dotenv\n",
    "import requests\n",
    "import json"
   ]
  },
  {
   "cell_type": "code",
   "execution_count": 7,
   "id": "fd6e90a0-f758-4430-8902-8883bd5b7d5f",
   "metadata": {},
   "outputs": [
    {
     "data": {
      "text/plain": [
       "True"
      ]
     },
     "execution_count": 7,
     "metadata": {},
     "output_type": "execute_result"
    }
   ],
   "source": [
    "load_dotenv()"
   ]
  },
  {
   "cell_type": "code",
   "execution_count": 27,
   "id": "ea42f1a9-0117-4a51-8ac8-3531d2b62a51",
   "metadata": {},
   "outputs": [
    {
     "data": {
      "text/plain": [
       "str"
      ]
     },
     "execution_count": 27,
     "metadata": {},
     "output_type": "execute_result"
    }
   ],
   "source": [
    "alpaca_api_key = os.getenv('ALPACA_API_KEY')\n",
    "type(alpaca_api_key)"
   ]
  },
  {
   "cell_type": "code",
   "execution_count": null,
   "id": "42ff0d33-4fe6-4c5c-9954-d7f621219dc7",
   "metadata": {},
   "outputs": [],
   "source": []
  },
  {
   "cell_type": "code",
   "execution_count": 10,
   "id": "6f928136-51cb-48d3-be71-932629611008",
   "metadata": {},
   "outputs": [],
   "source": [
    "# # Make the API request\n",
    "# response = requests.get(\"endpoint\").json()\n",
    "\n",
    "# # Display the response data\n",
    "# print(json.dumps(response, indent=4, sort_keys=True))"
   ]
  },
  {
   "cell_type": "code",
   "execution_count": 14,
   "id": "b9864a75-b8d5-425e-9a9c-a087375f0427",
   "metadata": {},
   "outputs": [
    {
     "name": "stdout",
     "output_type": "stream",
     "text": [
      "{\n",
      "    \"data\": {\n",
      "        \"52\": {\n",
      "            \"circulating_supply\": 50796877639,\n",
      "            \"id\": 52,\n",
      "            \"last_updated\": 1674584399,\n",
      "            \"max_supply\": 99989148225,\n",
      "            \"name\": \"XRP\",\n",
      "            \"quotes\": {\n",
      "                \"USD\": {\n",
      "                    \"market_cap\": 21386982288,\n",
      "                    \"percent_change_1h\": 0.780114925392303,\n",
      "                    \"percent_change_24h\": -0.519229104953117,\n",
      "                    \"percent_change_7d\": 9.22355419643308,\n",
      "                    \"percentage_change_1h\": 0.780114925392303,\n",
      "                    \"percentage_change_24h\": -0.519229104953117,\n",
      "                    \"percentage_change_7d\": 9.22355419643308,\n",
      "                    \"price\": 0.422934,\n",
      "                    \"volume_24h\": 1496716112\n",
      "                }\n",
      "            },\n",
      "            \"rank\": 6,\n",
      "            \"symbol\": \"XRP\",\n",
      "            \"total_supply\": 50796877639,\n",
      "            \"website_slug\": \"ripple\"\n",
      "        }\n",
      "    },\n",
      "    \"metadata\": {\n",
      "        \"error\": null,\n",
      "        \"num_cryptocurrencies\": 3119,\n",
      "        \"timestamp\": 1674584399\n",
      "    }\n",
      "}\n"
     ]
    }
   ],
   "source": [
    "# Set the endpoint\n",
    "xrp_url = \"https://api.alternative.me/v2/ticker/Ripple/\"\n",
    "\n",
    "# Make the API request\n",
    "response = requests.get(xrp_url).json()\n",
    "\n",
    "# Display the response data\n",
    "print(json.dumps(response, indent=4, sort_keys=True))\n"
   ]
  },
  {
   "cell_type": "code",
   "execution_count": 16,
   "id": "af287013-4809-4f39-8919-de076fe16790",
   "metadata": {},
   "outputs": [
    {
     "data": {
      "text/plain": [
       "'XRP'"
      ]
     },
     "execution_count": 16,
     "metadata": {},
     "output_type": "execute_result"
    }
   ],
   "source": [
    "response['data']['52']['symbol']"
   ]
  },
  {
   "cell_type": "code",
   "execution_count": 19,
   "id": "b330e413-4e3b-48d6-acec-f99cf2fa3364",
   "metadata": {},
   "outputs": [
    {
     "data": {
      "text/plain": [
       "0.422934"
      ]
     },
     "execution_count": 19,
     "metadata": {},
     "output_type": "execute_result"
    }
   ],
   "source": [
    "response['data']['52']['quotes']['USD']['price']"
   ]
  },
  {
   "cell_type": "code",
   "execution_count": 24,
   "id": "1d23d3df-139c-4097-a913-420d34fdf0ba",
   "metadata": {},
   "outputs": [
    {
     "name": "stdout",
     "output_type": "stream",
     "text": [
      "{\n",
      "    \"data\": {\n",
      "        \"2\": {\n",
      "            \"circulating_supply\": 72127208,\n",
      "            \"id\": 2,\n",
      "            \"last_updated\": 1674585562,\n",
      "            \"max_supply\": 84000000,\n",
      "            \"name\": \"Litecoin\",\n",
      "            \"quotes\": {\n",
      "                \"USD\": {\n",
      "                    \"market_cap\": 6451098915,\n",
      "                    \"percent_change_1h\": 0.492800634646213,\n",
      "                    \"percent_change_24h\": -1.08021377955494,\n",
      "                    \"percent_change_7d\": 4.49889851548977,\n",
      "                    \"percentage_change_1h\": 0.492800634646213,\n",
      "                    \"percentage_change_24h\": -1.08021377955494,\n",
      "                    \"percentage_change_7d\": 4.49889851548977,\n",
      "                    \"price\": 89.64,\n",
      "                    \"volume_24h\": 482520557\n",
      "                }\n",
      "            },\n",
      "            \"rank\": 15,\n",
      "            \"symbol\": \"LTC\",\n",
      "            \"total_supply\": 72127208,\n",
      "            \"website_slug\": \"litecoin\"\n",
      "        }\n",
      "    },\n",
      "    \"metadata\": {\n",
      "        \"error\": null,\n",
      "        \"num_cryptocurrencies\": 3119,\n",
      "        \"timestamp\": 1674585562\n",
      "    }\n",
      "}\n"
     ]
    }
   ],
   "source": [
    "# Set the endpoint\n",
    "ltc_url = \"https://api.alternative.me/v2/ticker/Litecoin/\"\n",
    "\n",
    "# Make the API request.\n",
    "response = requests.get(ltc_url).json()\n",
    "\n",
    "# Display the response data.\n",
    "print(json.dumps(response, indent=4, sort_keys=True))"
   ]
  },
  {
   "cell_type": "code",
   "execution_count": null,
   "id": "4eae145f-10d8-4f5e-b0f9-8aa86c26ac80",
   "metadata": {},
   "outputs": [],
   "source": []
  }
 ],
 "metadata": {
  "kernelspec": {
   "display_name": "APIs",
   "language": "python",
   "name": "apis"
  },
  "language_info": {
   "codemirror_mode": {
    "name": "ipython",
    "version": 3
   },
   "file_extension": ".py",
   "mimetype": "text/x-python",
   "name": "python",
   "nbconvert_exporter": "python",
   "pygments_lexer": "ipython3",
   "version": "3.8.16"
  }
 },
 "nbformat": 4,
 "nbformat_minor": 5
}
